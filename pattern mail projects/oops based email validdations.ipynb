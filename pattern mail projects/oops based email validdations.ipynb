{
 "cells": [
  {
   "cell_type": "code",
   "execution_count": 14,
   "id": "47a22d10",
   "metadata": {},
   "outputs": [],
   "source": [
    "class email:\n",
    "    def email(self):\n",
    "        n =(input('enter the emial:-'))\n",
    "        j=0\n",
    "        l=0\n",
    "        k=0\n",
    "        if len(n)>=8:\n",
    "            if n[0].isalpha():\n",
    "                if ('@'in n) and (n.count('@')==1):\n",
    "                    if ((n[-3]=='.') or (n[-4]=='.')):\n",
    "                        if (('gmail'in n) and (n.count('gmail')==1)):\n",
    "                            for i in n:\n",
    "                                if i==i.isspace():\n",
    "                                    k=1\n",
    "                                elif i==i.isalpha():\n",
    "                                    if i.upper():\n",
    "                                        j=1\n",
    "                                elif \"_\" or \".\" or \"@\":\n",
    "                                    continue\n",
    "                                elif i.isdigit():\n",
    "                                    l=1\n",
    "                                else:\n",
    "                                    k=1\n",
    "                            if k==1:\n",
    "                                print('it email not valid :- beacuse u print some extra spaces')\n",
    "                            if j==1:\n",
    "                                print('it email not valid :-in starting of mail letter must not be in capitals')\n",
    "                            if l==1:\n",
    "                                print('it email not valid :-not an numerical ')\n",
    "                        else:\n",
    "                            print('its email is not vlaid:- beacuase you have only one gmail word in your gmail')\n",
    "                    else:\n",
    "                        print('its email is not valid:- because first u have only one com or dot not on a correct position')\n",
    "                else:\n",
    "                    print(\"its email is not valid:- email beacuse you have at least have @ along with gmail word only one or missing any one of it \")\n",
    "            else:\n",
    "                print('its email is not valid:- email')\n",
    "        else:\n",
    "             print('it is not valid mail size greather than 8 word')\n"
   ]
  },
  {
   "cell_type": "code",
   "execution_count": 15,
   "id": "46061563",
   "metadata": {},
   "outputs": [
    {
     "name": "stdout",
     "output_type": "stream",
     "text": [
      "enter the emial:-yashkumar32001@gmail.com\n"
     ]
    }
   ],
   "source": [
    "en=email()\n",
    "en.email()"
   ]
  },
  {
   "cell_type": "code",
   "execution_count": null,
   "id": "263924ee",
   "metadata": {},
   "outputs": [],
   "source": []
  }
 ],
 "metadata": {
  "kernelspec": {
   "display_name": "Python 3 (ipykernel)",
   "language": "python",
   "name": "python3"
  },
  "language_info": {
   "codemirror_mode": {
    "name": "ipython",
    "version": 3
   },
   "file_extension": ".py",
   "mimetype": "text/x-python",
   "name": "python",
   "nbconvert_exporter": "python",
   "pygments_lexer": "ipython3",
   "version": "3.9.16"
  }
 },
 "nbformat": 4,
 "nbformat_minor": 5
}
