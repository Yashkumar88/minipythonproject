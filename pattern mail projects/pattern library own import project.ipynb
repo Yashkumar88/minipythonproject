{
 "cells": [
  {
   "cell_type": "code",
   "execution_count": 1,
   "id": "35a15717",
   "metadata": {},
   "outputs": [],
   "source": [
    "import pattern as p"
   ]
  },
  {
   "cell_type": "code",
   "execution_count": 2,
   "id": "7f7cdd64",
   "metadata": {},
   "outputs": [
    {
     "name": "stdout",
     "output_type": "stream",
     "text": [
      "enter the name:-yash\n",
      "*   *\n",
      " * * \n",
      "  *  \n",
      "  *  \n",
      "  *  \n",
      "yash\n",
      " *** \n",
      "*   *\n",
      "*   *\n",
      "*****\n",
      "*   *\n",
      "*   *\n",
      "*   *\n",
      "yash\n",
      " *** \n",
      "*    \n",
      "*    \n",
      " *** \n",
      "    *\n",
      "    *\n",
      " *** \n",
      "yash\n",
      "*   *\n",
      "*   *\n",
      "*   *\n",
      "*****\n",
      "*   *\n",
      "*   *\n",
      "*   *\n",
      "yash\n"
     ]
    }
   ],
   "source": [
    " # this is my libary hand made library \n",
    "n=input('enter the name:-')\n",
    "z=0\n",
    "for i in n:\n",
    "    if i=='a':\n",
    "        z=(p.A())\n",
    "    elif i=='b':\n",
    "        z=(p.B())\n",
    "    elif i=='c':\n",
    "        z=(p.C())\n",
    "    elif i=='d':\n",
    "        z=(p.D())\n",
    "    elif i=='e':\n",
    "        z=(p.E())\n",
    "    elif i=='f':\n",
    "        z=(p.F())\n",
    "    elif i=='g':\n",
    "        z=(p.G())\n",
    "    elif i=='h':\n",
    "        z=(p.H())\n",
    "    elif i=='i':\n",
    "        z=(p.I())\n",
    "    elif i=='j':\n",
    "        z=(p.J())\n",
    "    elif i=='k':\n",
    "        z=(p.K())\n",
    "    elif i=='l':\n",
    "        z=(p.L())\n",
    "    elif i=='m':\n",
    "        z=(p.M())\n",
    "    elif i=='n':\n",
    "        z=(p.N())\n",
    "    elif i=='o':\n",
    "        z=(p.O())\n",
    "    elif i=='p':\n",
    "        z=(p.P())\n",
    "    elif i=='q':\n",
    "        z=(p.Q())\n",
    "    elif i=='r':\n",
    "        z=(p.R())\n",
    "    elif i=='s':\n",
    "        z=(p.S())\n",
    "    elif i=='t':\n",
    "        z=(p.T())\n",
    "    elif i=='u':\n",
    "        z=(p.U())\n",
    "    elif i=='v':\n",
    "        z=(p.V())\n",
    "    elif i=='w':\n",
    "        z=(p.W())\n",
    "    elif i=='x':\n",
    "        z=(p.X())\n",
    "    elif i=='y':\n",
    "        z=(p.Y())\n",
    "    elif i=='z':\n",
    "        z=(p.Z())\n",
    "    else:\n",
    "        print('you type wrong alphabate')\n",
    "        \n",
    "    print(f'{n}')\n",
    "        \n",
    "    \n"
   ]
  },
  {
   "cell_type": "code",
   "execution_count": 4,
   "id": "6d4dc661",
   "metadata": {},
   "outputs": [
    {
     "data": {
      "text/plain": [
       "['A',\n",
       " 'B',\n",
       " 'C',\n",
       " 'D',\n",
       " 'E',\n",
       " 'F',\n",
       " 'G',\n",
       " 'H',\n",
       " 'I',\n",
       " 'J',\n",
       " 'K',\n",
       " 'L',\n",
       " 'M',\n",
       " 'N',\n",
       " 'O',\n",
       " 'P',\n",
       " 'Q',\n",
       " 'R',\n",
       " 'S',\n",
       " 'T',\n",
       " 'U',\n",
       " 'V',\n",
       " 'W',\n",
       " 'X',\n",
       " 'Y',\n",
       " 'Z',\n",
       " '__builtins__',\n",
       " '__cached__',\n",
       " '__doc__',\n",
       " '__file__',\n",
       " '__loader__',\n",
       " '__name__',\n",
       " '__package__',\n",
       " '__spec__']"
      ]
     },
     "execution_count": 4,
     "metadata": {},
     "output_type": "execute_result"
    }
   ],
   "source": [
    "dir(p)"
   ]
  }
 ],
 "metadata": {
  "kernelspec": {
   "display_name": "Python 3 (ipykernel)",
   "language": "python",
   "name": "python3"
  },
  "language_info": {
   "codemirror_mode": {
    "name": "ipython",
    "version": 3
   },
   "file_extension": ".py",
   "mimetype": "text/x-python",
   "name": "python",
   "nbconvert_exporter": "python",
   "pygments_lexer": "ipython3",
   "version": "3.9.16"
  }
 },
 "nbformat": 4,
 "nbformat_minor": 5
}
